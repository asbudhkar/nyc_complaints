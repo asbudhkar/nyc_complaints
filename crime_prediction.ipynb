{
 "cells": [
  {
   "cell_type": "code",
   "execution_count": 1,
   "metadata": {},
   "outputs": [
    {
     "name": "stderr",
     "output_type": "stream",
     "text": [
      "Using TensorFlow backend.\n"
     ]
    },
    {
     "name": "stdout",
     "output_type": "stream",
     "text": [
      "Populating the interactive namespace from numpy and matplotlib\n"
     ]
    },
    {
     "name": "stderr",
     "output_type": "stream",
     "text": [
      "c:\\users\\budhk\\appdata\\local\\programs\\python\\python36\\lib\\site-packages\\IPython\\core\\magics\\pylab.py:160: UserWarning: pylab import has clobbered these variables: ['sqrt']\n",
      "`%matplotlib` prevents importing * from pylab and numpy\n",
      "  \"\\n`%matplotlib` prevents importing * from pylab and numpy\"\n"
     ]
    }
   ],
   "source": [
    "# Code for time series prediction using LSTM model\n",
    "\n",
    "# Import required modules\n",
    "from math import sqrt\n",
    "from numpy import concatenate\n",
    "\n",
    "# For plotting\n",
    "from matplotlib import pyplot\n",
    "\n",
    "# For data preprocessing\n",
    "import pandas as pd\n",
    "from pandas import read_csv\n",
    "from pandas import DataFrame\n",
    "from pandas import concat\n",
    "\n",
    "# Machine learning library \n",
    "from sklearn.preprocessing import MinMaxScaler\n",
    "from sklearn.preprocessing import LabelEncoder\n",
    "from sklearn.metrics import mean_squared_error\n",
    "from keras.models import Sequential\n",
    "from keras.layers import Dense\n",
    "from keras.layers import LSTM\n",
    "from keras.models import model_from_json\n",
    "\n",
    "import pylab as pl\n",
    "%pylab inline "
   ]
  },
  {
   "cell_type": "code",
   "execution_count": 2,
   "metadata": {},
   "outputs": [
    {
     "name": "stderr",
     "output_type": "stream",
     "text": [
      "c:\\users\\budhk\\appdata\\local\\programs\\python\\python36\\lib\\site-packages\\sklearn\\utils\\validation.py:475: DataConversionWarning: Data with input dtype int64 was converted to float64 by MinMaxScaler.\n",
      "  warnings.warn(msg, DataConversionWarning)\n"
     ]
    }
   ],
   "source": [
    "# Load dataset\n",
    "dataset = read_csv('data.csv', header=0, index_col=0)\n",
    "values = dataset.values\n",
    "# Normalize features\n",
    "scaler = MinMaxScaler(feature_range=(0, 1))\n",
    "scaled = scaler.fit_transform(values)\n",
    "\n",
    "# Specify the number of lag hours\n",
    "n_hours = 6\n",
    "n_features = 163"
   ]
  },
  {
   "cell_type": "code",
   "execution_count": 4,
   "metadata": {},
   "outputs": [
    {
     "name": "stdout",
     "output_type": "stream",
     "text": [
      "Train on 160000 samples, validate on 50878 samples\n",
      "Epoch 1/50\n",
      " - 14s - loss: 2.7529 - val_loss: 0.3555\n",
      "Epoch 2/50\n",
      " - 12s - loss: 0.3565 - val_loss: 0.4866\n",
      "Epoch 3/50\n",
      " - 11s - loss: 0.3131 - val_loss: 0.2161\n",
      "Epoch 4/50\n",
      " - 12s - loss: 0.2877 - val_loss: 0.2148\n",
      "Epoch 5/50\n",
      " - 12s - loss: 0.3452 - val_loss: 0.2266\n",
      "Epoch 6/50\n",
      " - 12s - loss: 0.2803 - val_loss: 0.1539\n",
      "Epoch 7/50\n",
      " - 12s - loss: 0.2765 - val_loss: 0.1631\n",
      "Epoch 8/50\n",
      " - 11s - loss: 0.2599 - val_loss: 0.2421\n",
      "Epoch 9/50\n",
      " - 11s - loss: 0.3196 - val_loss: 0.2614\n",
      "Epoch 10/50\n",
      " - 11s - loss: 0.2386 - val_loss: 0.5396\n",
      "Epoch 11/50\n",
      " - 11s - loss: 0.2673 - val_loss: 0.5459\n",
      "Epoch 12/50\n",
      " - 11s - loss: 0.2705 - val_loss: 0.6341\n",
      "Epoch 13/50\n",
      " - 12s - loss: 0.2675 - val_loss: 0.3637\n",
      "Epoch 14/50\n",
      " - 12s - loss: 0.2805 - val_loss: 0.2201\n",
      "Epoch 15/50\n",
      " - 11s - loss: 0.2857 - val_loss: 0.2652\n",
      "Epoch 16/50\n",
      " - 12s - loss: 0.2937 - val_loss: 0.1672\n",
      "Epoch 17/50\n",
      " - 12s - loss: 0.2648 - val_loss: 0.2121\n",
      "Epoch 18/50\n",
      " - 12s - loss: 0.2587 - val_loss: 0.1483\n",
      "Epoch 19/50\n",
      " - 11s - loss: 0.2911 - val_loss: 0.1946\n",
      "Epoch 20/50\n",
      " - 11s - loss: 0.2181 - val_loss: 0.4161\n",
      "Epoch 21/50\n",
      " - 11s - loss: 0.1814 - val_loss: 0.1445\n",
      "Epoch 22/50\n",
      " - 11s - loss: 0.1866 - val_loss: 0.2707\n",
      "Epoch 23/50\n",
      " - 11s - loss: 0.1901 - val_loss: 0.2319\n",
      "Epoch 24/50\n",
      " - 11s - loss: 0.1912 - val_loss: 0.4279\n",
      "Epoch 25/50\n",
      " - 11s - loss: 0.1756 - val_loss: 0.2627\n",
      "Epoch 26/50\n",
      " - 11s - loss: 0.1743 - val_loss: 0.1237\n",
      "Epoch 27/50\n",
      " - 11s - loss: 0.1611 - val_loss: 0.2855\n",
      "Epoch 28/50\n",
      " - 11s - loss: 0.2059 - val_loss: 0.1520\n",
      "Epoch 29/50\n",
      " - 11s - loss: 0.2264 - val_loss: 0.1642\n",
      "Epoch 30/50\n",
      " - 11s - loss: 0.1950 - val_loss: 0.1394\n",
      "Epoch 31/50\n",
      " - 11s - loss: 0.2072 - val_loss: 0.2161\n",
      "Epoch 32/50\n",
      " - 11s - loss: 0.2099 - val_loss: 0.2389\n",
      "Epoch 33/50\n",
      " - 11s - loss: 0.1834 - val_loss: 0.3830\n",
      "Epoch 34/50\n",
      " - 11s - loss: 0.1841 - val_loss: 0.6653\n",
      "Epoch 35/50\n",
      " - 11s - loss: 0.1940 - val_loss: 0.7599\n",
      "Epoch 36/50\n",
      " - 11s - loss: 0.2250 - val_loss: 0.6348\n",
      "Epoch 37/50\n",
      " - 11s - loss: 0.1672 - val_loss: 0.3964\n",
      "Epoch 38/50\n",
      " - 11s - loss: 0.1752 - val_loss: 0.6330\n",
      "Epoch 39/50\n",
      " - 12s - loss: 0.1816 - val_loss: 0.5569\n",
      "Epoch 40/50\n",
      " - 11s - loss: 0.1804 - val_loss: 0.3340\n",
      "Epoch 41/50\n",
      " - 11s - loss: 0.2106 - val_loss: 0.3650\n",
      "Epoch 42/50\n",
      " - 12s - loss: 0.1765 - val_loss: 0.2908\n",
      "Epoch 43/50\n",
      " - 11s - loss: 0.1438 - val_loss: 0.4485\n",
      "Epoch 44/50\n",
      " - 11s - loss: 0.1756 - val_loss: 0.5254\n",
      "Epoch 45/50\n",
      " - 11s - loss: 0.1698 - val_loss: 0.6923\n",
      "Epoch 46/50\n",
      " - 11s - loss: 0.1621 - val_loss: 0.8203\n",
      "Epoch 47/50\n",
      " - 11s - loss: 0.1785 - val_loss: 0.5547\n",
      "Epoch 48/50\n",
      " - 11s - loss: 0.1746 - val_loss: 0.7902\n",
      "Epoch 49/50\n",
      " - 11s - loss: 0.1627 - val_loss: 0.6017\n",
      "Epoch 50/50\n",
      " - 11s - loss: 0.1524 - val_loss: 0.4531\n"
     ]
    },
    {
     "data": {
      "image/png": "[encoded data removed]",
      "text/plain": [
       "<Figure size 432x288 with 1 Axes>"
      ]
     },
     "metadata": {},
     "output_type": "display_data"
    },
    {
     "name": "stdout",
     "output_type": "stream",
     "text": [
      "Predicted\n",
      "[[-0.02927437]\n",
      " [ 2.9093533 ]\n",
      " [ 4.9459286 ]\n",
      " ...\n",
      " [ 2.228824  ]\n",
      " [20.622812  ]\n",
      " [20.667145  ]]\n",
      "Expected\n",
      "[ 0  3  5 ...  2 20 20]\n",
      "Test RMSE: 28.465\n",
      "Saved model to disk\n",
      "Loaded model from disk\n"
     ]
    },
    {
     "data": {
      "text/plain": [
       "8"
      ]
     },
     "execution_count": 4,
     "metadata": {},
     "output_type": "execute_result"
    }
   ],
   "source": [
    "# Split into train and test sets\n",
    "n_train_hours = 160000\n",
    "train = values[:n_train_hours, :]\n",
    "test = values[n_train_hours:, :]\n",
    "\n",
    "# Split into input and outputs\n",
    "train_X, train_y = train[:, 1:], train[:, 1]\n",
    "test_X, test_y = test[:, 1:], test[:, 1]\n",
    "\n",
    "# Reshape input to be 3D [samples, timesteps, features]\n",
    "train_X = train_X.reshape((train_X.shape[0], 1, train_X.shape[1]))\n",
    "test_X = test_X.reshape((test_X.shape[0], 1, test_X.shape[1]))\n",
    "\n",
    "# For testing\n",
    "test1_X = test_X[1]\n",
    "test1_X = test1_X.reshape((test1_X.shape[0], 1, test1_X.shape[1]))\n",
    "\n",
    "# Network definition\n",
    "model = Sequential()\n",
    "model.add(LSTM(50, input_shape=(train_X.shape[1], train_X.shape[2])))\n",
    "model.add(Dense(1))\n",
    "model.compile(loss='mae', optimizer='adam')\n",
    "\n",
    "# Fit network\n",
    "history = model.fit(train_X, train_y, epochs=50, batch_size=200, validation_data=(test_X, test_y), verbose=2, shuffle=False)\n",
    "\n",
    "# Plot history\n",
    "pyplot.plot(history.history['loss'], label='train')\n",
    "pyplot.plot(history.history['val_loss'], label='test')\n",
    "pyplot.legend()\n",
    "pyplot.show()\n",
    " \n",
    "# Prediction\n",
    "yhat = model.predict(test_X)\n",
    "model_json = model.to_json()\n",
    "with open(\"model.json\", \"w\") as json_file:\n",
    "    json_file.write(model_json)\n",
    "print(\"Predicted\")\n",
    "print(yhat)\n",
    "yhat1=pd.DataFrame(yhat[-20:])\n",
    "print(\"Expected\")\n",
    "print(test_y)\n",
    "\n",
    "test_y1=pd.DataFrame(test_y[-20:])\n",
    "test_X = test_X.reshape((test_X.shape[0], test_X.shape[2]))\n",
    "\n",
    "# Invert scaling for forecast\n",
    "inv_yhat = concatenate((yhat, test[:, 1:]), axis=1)\n",
    "inv_yhat = scaler.inverse_transform(inv_yhat)\n",
    "inv_yhat = inv_yhat[:,0]\n",
    "\n",
    "# Invert scaling for actual\n",
    "test_y = test_y.reshape((len(test_y), 1))\n",
    "inv_y = concatenate((test_y, test[:, 1:]), axis=1)\n",
    "inv_y = scaler.inverse_transform(inv_y)\n",
    "inv_y = inv_y[:,0]\n",
    "\n",
    "# Calculate RMSE\n",
    "rmse = sqrt(mean_squared_error(inv_y, inv_yhat))\n",
    "print('Test RMSE: %.3f' % rmse)\n",
    "json_file = open('model.json', 'r')\n",
    "loaded_model_json = json_file.read()\n",
    "json_file.close()\n",
    "\n",
    "# Serialize weights to HDF5\n",
    "model.save_weights(\"model.h5\")\n",
    "print(\"Saved model to disk\")\n",
    "\n",
    "loaded_model = model_from_json(loaded_model_json)\n",
    "# Load weights into new model\n",
    "loaded_model.load_weights(\"model.h5\")\n",
    "print(\"Loaded model from disk\")\n",
    "yhat = model.predict(test1_X)\n",
    "rmse=rmse/50000*20\n",
    "# Save output to file\n",
    "f= open(\"out.txt\",\"a+\")\n",
    "f.write(\"%d\" %int(yhat))\n",
    "f= open(\"out_rmse.txt\",\"a+\")\n",
    "f.write(\"%f\" %rmse)"
   ]
  },
  {
   "cell_type": "code",
   "execution_count": 8,
   "metadata": {},
   "outputs": [
    {
     "data": {
      "text/plain": [
       "Text(0.5,1,'RMSE Error')"
      ]
     },
     "execution_count": 8,
     "metadata": {},
     "output_type": "execute_result"
    },
    {
     "data": {
      "image/png": "[encoded data removed]",
      "text/plain": [
       "<Figure size 432x288 with 1 Axes>"
      ]
     },
     "metadata": {},
     "output_type": "display_data"
    }
   ],
   "source": [
    "pl.plot(test_y1,label='Expected')\n",
    "pl.plot(yhat1,label='Predicted')\n",
    "pl.legend()\n",
    "pl.title('RMSE Error')"
   ]
  },
  {
   "cell_type": "code",
   "execution_count": null,
   "metadata": {},
   "outputs": [],
   "source": []
  },
  {
   "cell_type": "code",
   "execution_count": null,
   "metadata": {},
   "outputs": [],
   "source": []
  }
 ],
 "metadata": {
  "kernelspec": {
   "display_name": "Python 3",
   "language": "python",
   "name": "python3"
  },
  "language_info": {
   "codemirror_mode": {
    "name": "ipython",
    "version": 3
   },
   "file_extension": ".py",
   "mimetype": "text/x-python",
   "name": "python",
   "nbconvert_exporter": "python",
   "pygments_lexer": "ipython3",
   "version": "3.6.2"
  }
 },
 "nbformat": 4,
 "nbformat_minor": 2
}
